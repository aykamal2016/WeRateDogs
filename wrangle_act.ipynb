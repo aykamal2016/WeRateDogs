{
 "cells": [
  {
   "cell_type": "markdown",
   "metadata": {},
   "source": [
    "## Udacity Data Wrangling & Analysing Project \n",
    "### Purpose of the Analysis\n",
    "I will be wrangling ,analyzing and visualizing the tweet archive of Twitter user @dog_rates, also known as WeRateDogs. WeRateDogs is a Twitter account that rates people's dogs with a humorous comment about the dog. \n",
    "### Sources of Data:\n",
    "#### Enhanced Twitter Archive  \n",
    "The WeRateDogs Twitter archive contains basic tweet data (tweet ID, timestamp, text, etc.) for all 5000+ of their tweets.This data is given as part of the project resources  \n",
    "####  Image Predictions File \n",
    "The tweet image predictions file contains predictions for what breed of dog is present  in each tweet image according to neural network algorithm.The data of this file exists online in a url hosted in udacity and will be downloaded programatically using request api \n",
    "#### Twitter API    \n",
    "Additional data can be retrieved from Twitter other than those exist in the enhanced twitter archive file ,like retweet and favorite counts.I will retrieve this data from the Twitter's API."
   ]
  },
  {
   "cell_type": "markdown",
   "metadata": {},
   "source": [
    "### Load Libraries"
   ]
  },
  {
   "cell_type": "code",
   "execution_count": 1,
   "metadata": {},
   "outputs": [],
   "source": [
    "# importing required libraries \n",
    "import pandas as pd\n",
    "import numpy as np\n",
    "import requests\n",
    "import tweepy\n",
    "from tweepy import OAuthHandler\n",
    "import json\n",
    "import time\n",
    "import os\n",
    "import datetime\n",
    "import string\n",
    "import re\n",
    "import matplotlib.pyplot as plt\n",
    "import seaborn as sns"
   ]
  },
  {
   "cell_type": "markdown",
   "metadata": {},
   "source": [
    "### Gathering Data"
   ]
  },
  {
   "cell_type": "markdown",
   "metadata": {},
   "source": [
    "#### Enhance Twitter Archive Data"
   ]
  },
  {
   "cell_type": "code",
   "execution_count": 2,
   "metadata": {},
   "outputs": [],
   "source": [
    "twitter_archive_df = pd.read_csv('twitter-archive-enhanced.csv')\n"
   ]
  },
  {
   "cell_type": "markdown",
   "metadata": {},
   "source": [
    "#### Image Predictions Data"
   ]
  },
  {
   "cell_type": "code",
   "execution_count": 3,
   "metadata": {},
   "outputs": [],
   "source": [
    "# Downloading and saving the image prediction data using Requests\n",
    "url ='https://d17h27t6h515a5.cloudfront.net/topher/2017/August/599fd2ad_image-predictions/image-predictions.tsv'\n",
    "\n",
    "response = requests.get(url)\n",
    "filename=url.split('/')[-1]\n",
    "\n",
    "if not os.path.isfile(filename):\n",
    "   with open(filename, 'wb') as file:\n",
    "    file.write(response.content)\n",
    "    \n",
    "image_predictions_df  = pd.read_csv(filename, sep='\\t')\n",
    "df=pd.merge(image_predictions_df,twitter_archive_df,how='left',on='tweet_id')\n"
   ]
  },
  {
   "cell_type": "code",
   "execution_count": 4,
   "metadata": {},
   "outputs": [],
   "source": [
    "consumer_key = ''\n",
    "consumer_secret = ''\n",
    "access_token = ''\n",
    "access_secret = ''\n",
    "\n",
    "auth = OAuthHandler(consumer_key, consumer_secret)\n",
    "auth.set_access_token(access_token, access_secret)\n",
    "\n",
    "api = tweepy.API(auth, wait_on_rate_limit=True)\n",
    "exp_tweet = api.get_status(twitter_archive_df.tweet_id[1000], tweet_mode = 'extended')\n",
    "content = exp_tweet._json\n",
    "#print(content)"
   ]
  },
  {
   "cell_type": "code",
   "execution_count": 6,
   "metadata": {},
   "outputs": [
    {
     "name": "stdout",
     "output_type": "stream",
     "text": [
      "Error on tweet id 888202515573088257;[{'code': 144, 'message': 'No status found with that ID.'}]\n",
      "Error on tweet id 873697596434513921;[{'code': 144, 'message': 'No status found with that ID.'}]\n",
      "Error on tweet id 872668790621863937;[{'code': 144, 'message': 'No status found with that ID.'}]\n",
      "Error on tweet id 872261713294495745;[{'code': 144, 'message': 'No status found with that ID.'}]\n",
      "Error on tweet id 869988702071779329;[{'code': 144, 'message': 'No status found with that ID.'}]\n",
      "Error on tweet id 866816280283807744;[{'code': 144, 'message': 'No status found with that ID.'}]\n",
      "Error on tweet id 861769973181624320;[{'code': 144, 'message': 'No status found with that ID.'}]\n",
      "Error on tweet id 856602993587888130;[{'code': 144, 'message': 'No status found with that ID.'}]\n",
      "Error on tweet id 851953902622658560;[{'code': 144, 'message': 'No status found with that ID.'}]\n",
      "Error on tweet id 845459076796616705;[{'code': 144, 'message': 'No status found with that ID.'}]\n",
      "Error on tweet id 844704788403113984;[{'code': 144, 'message': 'No status found with that ID.'}]\n",
      "Error on tweet id 842892208864923648;[{'code': 144, 'message': 'No status found with that ID.'}]\n",
      "Error on tweet id 837366284874571778;[{'code': 144, 'message': 'No status found with that ID.'}]\n",
      "Error on tweet id 837012587749474308;[{'code': 144, 'message': 'No status found with that ID.'}]\n",
      "Error on tweet id 829374341691346946;[{'code': 144, 'message': 'No status found with that ID.'}]\n",
      "Error on tweet id 827228250799742977;[{'code': 144, 'message': 'No status found with that ID.'}]\n",
      "Error on tweet id 812747805718642688;[{'code': 144, 'message': 'No status found with that ID.'}]\n",
      "Error on tweet id 802247111496568832;[{'code': 144, 'message': 'No status found with that ID.'}]\n",
      "Error on tweet id 779123168116150273;[{'code': 144, 'message': 'No status found with that ID.'}]\n",
      "Error on tweet id 775096608509886464;[{'code': 144, 'message': 'No status found with that ID.'}]\n",
      "Error on tweet id 771004394259247104;[{'code': 179, 'message': 'Sorry, you are not authorized to see this status.'}]\n",
      "Error on tweet id 770743923962707968;[{'code': 144, 'message': 'No status found with that ID.'}]\n",
      "Error on tweet id 759566828574212096;[{'code': 144, 'message': 'No status found with that ID.'}]\n",
      "Rate limit reached. Sleeping for: 673\n",
      "Error on tweet id 754011816964026368;[{'code': 144, 'message': 'No status found with that ID.'}]\n",
      "Error on tweet id 680055455951884288;[{'code': 144, 'message': 'No status found with that ID.'}]\n",
      "Rate limit reached. Sleeping for: 745\n"
     ]
    }
   ],
   "source": [
    "errors = []\n",
    "if not os.path.isfile('tweet_json.txt'):\n",
    "# create the file and write on it\n",
    "    with open ('tweet_json.txt', 'w') as file:\n",
    "        for tweet_id in twitter_archive_df['tweet_id']:\n",
    "            try:\n",
    "                status = api.get_status(tweet_id, wait_on_rate_limit=True, wait_on_rate_limit_notify=True, tweet_mode =\n",
    "                'extended')\n",
    "                json.dump(status._json, file)\n",
    "                file.write('\\n')\n",
    "            except Exception as e:\n",
    "                print(\"Error on tweet id {}\".format(tweet_id) + \";\" + str(e))\n",
    "                errors.append(tweet_id)\n",
    "                "
   ]
  },
  {
   "cell_type": "markdown",
   "metadata": {},
   "source": [
    "#### Additional Data Via Twitter API"
   ]
  },
  {
   "cell_type": "code",
   "execution_count": 4,
   "metadata": {},
   "outputs": [],
   "source": [
    "# extract data from tweet_json.txt file\n",
    "tweets_list = []\n",
    "\n",
    "with open('tweet_json.txt') as file:\n",
    "    \n",
    "    for line in file:\n",
    "        tweet = json.loads(line)\n",
    "        tweets_list.append({'tweet_id': tweet['id'],\n",
    "                        'retweet_count': tweet['retweet_count'],\n",
    "                        'favorite_count': tweet['favorite_count']})  \n",
    "\n",
    "api_df=pd.DataFrame(tweets_list,columns=['tweet_id','retweet_count','favorite_count'])  \n"
   ]
  },
  {
   "cell_type": "markdown",
   "metadata": {},
   "source": [
    "### Output Data Gathering\n",
    "#### The 3 dataframes are:-\n",
    "* twitter_archive_df - contains data read from provided csv file\n",
    "* image_predictions_df - contains data read (by using requests) from tsv file hosted on server\n",
    "* api_df - contains data obtained from twitter api"
   ]
  },
  {
   "cell_type": "markdown",
   "metadata": {},
   "source": [
    "### Assessing Data"
   ]
  },
  {
   "cell_type": "markdown",
   "metadata": {},
   "source": [
    "#### 1- Enhance Twitter Archive Data"
   ]
  },
  {
   "cell_type": "code",
   "execution_count": 10,
   "metadata": {
    "scrolled": true
   },
   "outputs": [],
   "source": [
    "twitter_archive_df.sample(5)"
   ]
  },
  {
   "cell_type": "markdown",
   "metadata": {},
   "source": [
    "####  Quality\n",
    "- Missing data in columns  doggo,floofer,pupper,puppo showing as \"None\"\n",
    "- Missing data in several column\n",
    "\n",
    "##### Tidy\n",
    "- Column headers ( Doggo, Pepper , Pop)are values for a variable (dog_stage)\n",
    "\n"
   ]
  },
  {
   "cell_type": "code",
   "execution_count": 23,
   "metadata": {},
   "outputs": [
    {
     "name": "stdout",
     "output_type": "stream",
     "text": [
      "<class 'pandas.core.frame.DataFrame'>\n",
      "RangeIndex: 2356 entries, 0 to 2355\n",
      "Data columns (total 17 columns):\n",
      "tweet_id                      2356 non-null int64\n",
      "in_reply_to_status_id         78 non-null float64\n",
      "in_reply_to_user_id           78 non-null float64\n",
      "timestamp                     2356 non-null object\n",
      "source                        2356 non-null object\n",
      "text                          2356 non-null object\n",
      "retweeted_status_id           181 non-null float64\n",
      "retweeted_status_user_id      181 non-null float64\n",
      "retweeted_status_timestamp    181 non-null object\n",
      "expanded_urls                 2297 non-null object\n",
      "rating_numerator              2356 non-null int64\n",
      "rating_denominator            2356 non-null int64\n",
      "name                          2356 non-null object\n",
      "doggo                         2356 non-null object\n",
      "floofer                       2356 non-null object\n",
      "pupper                        2356 non-null object\n",
      "puppo                         2356 non-null object\n",
      "dtypes: float64(4), int64(3), object(10)\n",
      "memory usage: 313.0+ KB\n"
     ]
    }
   ],
   "source": [
    "twitter_archive_df.info()"
   ]
  },
  {
   "cell_type": "markdown",
   "metadata": {},
   "source": [
    "#### Quality \n",
    " - timestamp , retweeted_status_timestamp datatype is object instead of datetime\n",
    " - in_reply_to_status_id,in_reply_to_user_id datatype is float instead of integer\n",
    " - Missing values in columns  in_reply_to_status_id,in_reply_to_user_id,retweeted_status_id,retweeted_status_user_id,retweeted_status_timestamp\n",
    " - We only need original rating no retweet that have images should be included  - The variable \"expanded_urls\" has few missing values ,which means some records has no images, any raiting without images shouldn't be taken\n",
    "    "
   ]
  },
  {
   "cell_type": "code",
   "execution_count": 11,
   "metadata": {
    "scrolled": true
   },
   "outputs": [],
   "source": [
    "twitter_archive_df['name'].value_counts()"
   ]
  },
  {
   "cell_type": "markdown",
   "metadata": {},
   "source": [
    "#### Quality\n",
    "- Missing data in column \"name\" are showed as  non-null values \"None\" \n",
    "- Incorrect values in column \"name\"  like a,an"
   ]
  },
  {
   "cell_type": "code",
   "execution_count": 16,
   "metadata": {},
   "outputs": [
    {
     "data": {
      "text/plain": [
       "count    2356.000000\n",
       "mean       13.126486\n",
       "std        45.876648\n",
       "min         0.000000\n",
       "25%        10.000000\n",
       "50%        11.000000\n",
       "75%        12.000000\n",
       "max      1776.000000\n",
       "Name: rating_numerator, dtype: float64"
      ]
     },
     "execution_count": 16,
     "metadata": {},
     "output_type": "execute_result"
    }
   ],
   "source": [
    "twitter_archive_df['rating_numerator'].describe()"
   ]
  },
  {
   "cell_type": "code",
   "execution_count": 5,
   "metadata": {},
   "outputs": [],
   "source": [
    "twitter_archive_df['retweeted_status_id'].value_counts()"
   ]
  },
  {
   "cell_type": "markdown",
   "metadata": {},
   "source": [
    "### 2-Images Predictions Data"
   ]
  },
  {
   "cell_type": "code",
   "execution_count": 35,
   "metadata": {},
   "outputs": [
    {
     "name": "stdout",
     "output_type": "stream",
     "text": [
      "<class 'pandas.core.frame.DataFrame'>\n",
      "RangeIndex: 2075 entries, 0 to 2074\n",
      "Data columns (total 12 columns):\n",
      "tweet_id    2075 non-null int64\n",
      "jpg_url     2075 non-null object\n",
      "img_num     2075 non-null int64\n",
      "p1          2075 non-null object\n",
      "p1_conf     2075 non-null float64\n",
      "p1_dog      2075 non-null bool\n",
      "p2          2075 non-null object\n",
      "p2_conf     2075 non-null float64\n",
      "p2_dog      2075 non-null bool\n",
      "p3          2075 non-null object\n",
      "p3_conf     2075 non-null float64\n",
      "p3_dog      2075 non-null bool\n",
      "dtypes: bool(3), float64(3), int64(2), object(4)\n",
      "memory usage: 152.1+ KB\n"
     ]
    }
   ],
   "source": [
    "image_predictions_df.info()"
   ]
  },
  {
   "cell_type": "markdown",
   "metadata": {},
   "source": [
    "#### Quality\n",
    "- The name of variables p1,p2,p3,p1_conf,p2_conf,p2_dog is not indicative "
   ]
  },
  {
   "cell_type": "markdown",
   "metadata": {},
   "source": [
    "## Cleaning Data"
   ]
  },
  {
   "cell_type": "markdown",
   "metadata": {},
   "source": [
    "- Work on Copy of output of Data Gathering data frames"
   ]
  },
  {
   "cell_type": "code",
   "execution_count": 5,
   "metadata": {},
   "outputs": [],
   "source": [
    "twitter_archive_clean = twitter_archive_df.copy()\n",
    "image_predictions_clean = image_predictions_df.copy()\n",
    "api_df_clean = api_df.copy()\n"
   ]
  },
  {
   "cell_type": "markdown",
   "metadata": {},
   "source": [
    "**Quality Issue 1** \n",
    "- Keep Original ratings that have images (no retweet/no reply) in the 3 data frames (twitter_archive_clean,image_predictions_clean,api_df_clean)\n"
   ]
  },
  {
   "cell_type": "code",
   "execution_count": 6,
   "metadata": {},
   "outputs": [
    {
     "name": "stdout",
     "output_type": "stream",
     "text": [
      "0\n"
     ]
    }
   ],
   "source": [
    "#CODE: Delete retweets by filtering the NaN of retweeted_status_user_id\n",
    "twitter_archive_clean = twitter_archive_clean[pd.isnull(twitter_archive_clean['retweeted_status_id'])]\n",
    "\n",
    "#TEST\n",
    "print(sum(twitter_archive_clean.retweeted_status_id.value_counts()))\n"
   ]
  },
  {
   "cell_type": "code",
   "execution_count": 7,
   "metadata": {},
   "outputs": [
    {
     "name": "stdout",
     "output_type": "stream",
     "text": [
      "0\n"
     ]
    }
   ],
   "source": [
    "#CODE: Delete retweets by filtering the NaN of in_reply_to_status_id\n",
    "twitter_archive_clean = twitter_archive_clean[pd.isnull(twitter_archive_clean['in_reply_to_status_id'])]\n",
    "\n",
    "#TEST\n",
    "print(sum(twitter_archive_clean.in_reply_to_status_id.value_counts()))\n"
   ]
  },
  {
   "cell_type": "code",
   "execution_count": 8,
   "metadata": {},
   "outputs": [
    {
     "name": "stdout",
     "output_type": "stream",
     "text": [
      "2094\n"
     ]
    }
   ],
   "source": [
    "#CODE: Delete Tweet with no images  by filtering the not is NAN of  expanded urls\n",
    "twitter_archive_clean = twitter_archive_clean[pd.notnull(twitter_archive_clean['expanded_urls'])]\n",
    "\n",
    "#TEST\n",
    "print(sum(twitter_archive_clean.expanded_urls.value_counts()))"
   ]
  },
  {
   "cell_type": "markdown",
   "metadata": {},
   "source": [
    "- Keeping the original ratings tweets in archive data frame  will be completed when we select only the tweets that have image in the predictions dataframe"
   ]
  },
  {
   "cell_type": "code",
   "execution_count": 9,
   "metadata": {},
   "outputs": [],
   "source": [
    "tweets_with_image = list(image_predictions_clean.tweet_id.unique())"
   ]
  },
  {
   "cell_type": "code",
   "execution_count": 10,
   "metadata": {},
   "outputs": [],
   "source": [
    "twitter_archive_clean = twitter_archive_clean[twitter_archive_clean.tweet_id.isin(tweets_with_image)]"
   ]
  },
  {
   "cell_type": "code",
   "execution_count": 202,
   "metadata": {},
   "outputs": [],
   "source": [
    "#TEST\n",
    "twitter_archive_clean.info()"
   ]
  },
  {
   "cell_type": "markdown",
   "metadata": {},
   "source": [
    "- Delete from image_predictions all tweets that are retweet or reply"
   ]
  },
  {
   "cell_type": "code",
   "execution_count": 11,
   "metadata": {},
   "outputs": [],
   "source": [
    "#Code \n",
    "# Check the image_prediction table for extra tweet ids not in the archive table\n",
    "np.logical_not(image_predictions_clean.tweet_id.isin(list(twitter_archive_clean.tweet_id)))\n",
    "\n",
    "# Dropping the retweets and replies tweet ids from the image prediction dataframe\n",
    "image_predictions_clean=image_predictions_clean[~np.logical_not(image_predictions_clean.tweet_id.isin(list(twitter_archive_clean.tweet_id)))]\n"
   ]
  },
  {
   "cell_type": "code",
   "execution_count": 203,
   "metadata": {},
   "outputs": [],
   "source": [
    "#TEST\n",
    "image_predictions_clean.info()"
   ]
  },
  {
   "cell_type": "markdown",
   "metadata": {},
   "source": [
    "- Delete from twitter api  all tweets that are retweet or reply"
   ]
  },
  {
   "cell_type": "code",
   "execution_count": 12,
   "metadata": {},
   "outputs": [],
   "source": [
    "#Code find all tweet that are in both image_predictions & twitter api\n",
    "cond = api_df_clean['tweet_id'].isin(image_predictions_clean['tweet_id']) \n",
    "# Dropping the retweets and replies tweet ids from the tweet api dataframe\n",
    "api_df_clean.drop(api_df_clean[~cond].index, inplace = True) "
   ]
  },
  {
   "cell_type": "code",
   "execution_count": 204,
   "metadata": {},
   "outputs": [],
   "source": [
    "#TEST\n",
    "api_df_clean.info()"
   ]
  },
  {
   "cell_type": "markdown",
   "metadata": {},
   "source": [
    "**Quality Issue 2** \n",
    "- Removing fields from tweet archive dataframe that will not be needed in the analysis"
   ]
  },
  {
   "cell_type": "code",
   "execution_count": 13,
   "metadata": {},
   "outputs": [],
   "source": [
    "#CODE: Remove retweet , in reply to columns\n",
    "\n",
    "twitter_archive_clean = twitter_archive_clean.drop(['in_reply_to_status_id','in_reply_to_user_id',\n",
    "                                                    'retweeted_status_id',\n",
    "                                                    'retweeted_status_user_id', \n",
    "                                                   'retweeted_status_timestamp', \n",
    "                                                    ], 1) \n"
   ]
  },
  {
   "cell_type": "code",
   "execution_count": 205,
   "metadata": {},
   "outputs": [],
   "source": [
    "#Test\n",
    "list(twitter_archive_clean)"
   ]
  },
  {
   "cell_type": "markdown",
   "metadata": {},
   "source": [
    "**Quality Issue 3** \n",
    "- Errorenous DataTypes in timestamp field in archive dataframe"
   ]
  },
  {
   "cell_type": "code",
   "execution_count": 14,
   "metadata": {},
   "outputs": [
    {
     "name": "stdout",
     "output_type": "stream",
     "text": [
      "<class 'pandas.core.frame.DataFrame'>\n",
      "Int64Index: 1971 entries, 0 to 2355\n",
      "Data columns (total 12 columns):\n",
      "tweet_id              1971 non-null int64\n",
      "timestamp             1971 non-null datetime64[ns]\n",
      "source                1971 non-null object\n",
      "text                  1971 non-null object\n",
      "expanded_urls         1971 non-null object\n",
      "rating_numerator      1971 non-null int64\n",
      "rating_denominator    1971 non-null int64\n",
      "name                  1971 non-null object\n",
      "doggo                 1971 non-null object\n",
      "floofer               1971 non-null object\n",
      "pupper                1971 non-null object\n",
      "puppo                 1971 non-null object\n",
      "dtypes: datetime64[ns](1), int64(3), object(8)\n",
      "memory usage: 200.2+ KB\n"
     ]
    }
   ],
   "source": [
    "#CODE: convert timestamp to datetime\n",
    "twitter_archive_clean['timestamp'] = pd.to_datetime(twitter_archive_clean['timestamp'])\n",
    "# Test\n",
    "twitter_archive_clean.info()"
   ]
  },
  {
   "cell_type": "markdown",
   "metadata": {},
   "source": [
    "**Quality Issue 4** \n",
    "- **Missing data in column \"name\" are showed as non-null values \"None\"**\n",
    "- Change the name value to null or to the name value in \"text\" variable\n",
    "\n",
    "**Quality Issue 5**\n",
    "- **Incorrect values in column \"name\" like a,an,by**\n",
    "- Change the name value to null or to the name value in \"text\" variable\n",
    "\n",
    "- **Algorithm**\n",
    "- Get dogs with \"name\" value less than 3 characters and start with lower case \n",
    "- Get dogs with \"name\" value=\"None\n",
    "- Replace  the  name variable with the name found in \"text\" variable or replace it with null value \n",
    "- The dog name is found in the \"text\" variable using reqular expression.Searching for the pattern \"named is ,\"named\""
   ]
  },
  {
   "cell_type": "code",
   "execution_count": 15,
   "metadata": {},
   "outputs": [
    {
     "data": {
      "text/plain": [
       "NaN           557\n",
       "Charlie        11\n",
       "Oliver         10\n",
       "Lucy           10\n",
       "Cooper         10\n",
       "Penny           9\n",
       "Tucker          9\n",
       "Sadie           8\n",
       "Winston         8\n",
       "Toby            7\n",
       "Daisy           7\n",
       "the             7\n",
       "Lola            7\n",
       "Koda            6\n",
       "Bella           6\n",
       "Jax             6\n",
       "Stanley         6\n",
       "Bo              6\n",
       "Zoey            5\n",
       "Scout           5\n",
       "Dave            5\n",
       "Buddy           5\n",
       "Leo             5\n",
       "Bailey          5\n",
       "Milo            5\n",
       "Louis           5\n",
       "Chester         5\n",
       "Oscar           5\n",
       "Rusty           5\n",
       "Bentley         4\n",
       "             ... \n",
       "Lacy            1\n",
       "Kanu            1\n",
       "incredibly      1\n",
       "Grizzwald       1\n",
       "Kollin          1\n",
       "Bronte          1\n",
       "Mack            1\n",
       "Dietrich        1\n",
       "Jameson         1\n",
       "Arlen           1\n",
       "Marty           1\n",
       "Julius          1\n",
       "Ron             1\n",
       "Sierra          1\n",
       "Duddles         1\n",
       "Dex             1\n",
       "Jonah           1\n",
       "Malikai         1\n",
       "Johm            1\n",
       "Maks            1\n",
       "Joshwa          1\n",
       "Gustaf          1\n",
       "Asher           1\n",
       "Kenny           1\n",
       "Snickers        1\n",
       "Mitch           1\n",
       "Acro            1\n",
       "Zoe             1\n",
       "Chuk            1\n",
       "Boston          1\n",
       "Name: name, Length: 955, dtype: int64"
      ]
     },
     "execution_count": 15,
     "metadata": {},
     "output_type": "execute_result"
    }
   ],
   "source": [
    "# CODE: Replace incorect dog name variable with NaN or dog name if found in text variable\n",
    "pattern= re.compile(r'(?:name(?:d)?)\\s{1}(?:is\\s)?(?:to\\s)?([A-Za-z]+)')\n",
    "for index, row in twitter_archive_clean.iterrows(): \n",
    "                    if (row['name'][0].islower() and len(row['name'])<3) or (row['name'] == 'None'):\n",
    "                         try:\n",
    "                          dog_name=re.findall(pattern, row['text'])[0] \n",
    "                                        #  +\"##\"+row['text'])\n",
    "                          twitter_archive_clean.loc[index,'name'] = twitter_archive_clean.loc[index,'name'].replace(row['name'], dog_name)\n",
    "                         except IndexError:\n",
    "                             \n",
    "                            twitter_archive_clean.loc[index,'name'] = np.nan\n",
    "\n",
    "# Test           \n",
    "twitter_archive_clean.name.value_counts(dropna = False)"
   ]
  },
  {
   "cell_type": "markdown",
   "metadata": {},
   "source": [
    "**Quality Issue 6**\n",
    "- Dog develepment category (puppo,floofer,doggo,pupper) in twitter archive dataframe have inconsistent presentation of null values as 'None' when Nan should be used\n",
    "\n",
    "**Tiddiness Issue 1**\n",
    "- Column headers ( Doggo, Pepper , Pop) in archive data frame  are values for a variable (dog_stage)\n"
   ]
  },
  {
   "cell_type": "code",
   "execution_count": 17,
   "metadata": {},
   "outputs": [],
   "source": [
    "#CODE:\n",
    "#1-Replace \"None\" values in columns (puppo,floofer,doggo,pupper) by empty string \n",
    "twitter_archive_clean.floofer.replace(\"None\",\"\",inplace=True)\n",
    "twitter_archive_clean.puppo.replace(\"None\",\"\",inplace=True)\n",
    "twitter_archive_clean.doggo.replace(\"None\",\"\",inplace=True)\n",
    "twitter_archive_clean.pupper.replace(\"None\",\"\",inplace=True)\n",
    "\n",
    "#2-Create new column dog_stage that concatenate the values in columns (puppo,floofer,doggo,pupper)-Tiddiness Issue \n",
    "twitter_archive_clean['dog_stage']=twitter_archive_clean.floofer+twitter_archive_clean.puppo +twitter_archive_clean.doggo+twitter_archive_clean.pupper\n",
    "#3-drop old columns (puppo,floofer,doggo,pupper)\n",
    "twitter_archive_clean.drop(columns=['floofer', 'puppo','doggo','pupper'])\n",
    "#4-Remove inconsisteny in dog_breed presentation of null values as empty string- Quality Issue\n",
    "twitter_archive_clean.dog_stage.replace(\"\",np.nan,inplace=True)\n",
    "#5-Entries that have two stages can be  separated by a hyphen for readability-Quality Issue\n",
    "twitter_archive_clean.dog_stage.replace(\"doggopupper\",\"doggo-pupper\",inplace=True)\n",
    "twitter_archive_clean.dog_stage.replace(\"flooferdoggo\",\"floofer-doggo\",inplace=True)\n",
    "twitter_archive_clean.dog_stage.replace(\"puppodoggo\",\"puppo-doggo\",inplace=True)\n",
    "\n"
   ]
  },
  {
   "cell_type": "code",
   "execution_count": 19,
   "metadata": {},
   "outputs": [],
   "source": [
    "#Test\n",
    "twitter_archive_clean.dog_stage.value_counts(dropna=False)"
   ]
  },
  {
   "cell_type": "markdown",
   "metadata": {},
   "source": [
    "**Quality Issue 7**\n",
    "- Column names (p1,p2,p3) in Image Predictions Dataframe is not clear , change them to more readable names "
   ]
  },
  {
   "cell_type": "code",
   "execution_count": 20,
   "metadata": {},
   "outputs": [],
   "source": [
    "#CODE Rename Coloumn \n",
    "image_predictions_clean= image_predictions_clean.rename(columns={'p1':'prediction1','p2': 'prediction2','p3':'predictions3'\n",
    "                                        })\n",
    "image_predictions_clean= image_predictions_clean.rename(columns={'p1_conf':'confedince1','p2_conf': 'confedince2','p3_conf':'confedince3'\n",
    "                                        })\n",
    "\n"
   ]
  },
  {
   "cell_type": "code",
   "execution_count": 14,
   "metadata": {},
   "outputs": [
    {
     "data": {
      "text/html": [
       "<div>\n",
       "<style scoped>\n",
       "    .dataframe tbody tr th:only-of-type {\n",
       "        vertical-align: middle;\n",
       "    }\n",
       "\n",
       "    .dataframe tbody tr th {\n",
       "        vertical-align: top;\n",
       "    }\n",
       "\n",
       "    .dataframe thead th {\n",
       "        text-align: right;\n",
       "    }\n",
       "</style>\n",
       "<table border=\"1\" class=\"dataframe\">\n",
       "  <thead>\n",
       "    <tr style=\"text-align: right;\">\n",
       "      <th></th>\n",
       "      <th>tweet_id</th>\n",
       "      <th>jpg_url</th>\n",
       "      <th>img_num</th>\n",
       "      <th>Prediction1</th>\n",
       "      <th>confedince1</th>\n",
       "      <th>p1_dog</th>\n",
       "      <th>Prediction2</th>\n",
       "      <th>confedince2</th>\n",
       "      <th>p2_dog</th>\n",
       "      <th>Predictions3</th>\n",
       "      <th>confedince3</th>\n",
       "      <th>p3_dog</th>\n",
       "    </tr>\n",
       "  </thead>\n",
       "  <tbody>\n",
       "    <tr>\n",
       "      <th>795</th>\n",
       "      <td>690938899477221376</td>\n",
       "      <td>https://pbs.twimg.com/media/CZa1QnSWEAAEOVr.jpg</td>\n",
       "      <td>1</td>\n",
       "      <td>geyser</td>\n",
       "      <td>0.370318</td>\n",
       "      <td>False</td>\n",
       "      <td>seashore</td>\n",
       "      <td>0.274888</td>\n",
       "      <td>False</td>\n",
       "      <td>beacon</td>\n",
       "      <td>0.046397</td>\n",
       "      <td>False</td>\n",
       "    </tr>\n",
       "    <tr>\n",
       "      <th>1200</th>\n",
       "      <td>740995100998766593</td>\n",
       "      <td>https://pbs.twimg.com/media/CkiLHCjUUAAPwUr.jpg</td>\n",
       "      <td>1</td>\n",
       "      <td>malamute</td>\n",
       "      <td>0.454363</td>\n",
       "      <td>True</td>\n",
       "      <td>Samoyed</td>\n",
       "      <td>0.215967</td>\n",
       "      <td>True</td>\n",
       "      <td>Siberian_husky</td>\n",
       "      <td>0.077500</td>\n",
       "      <td>True</td>\n",
       "    </tr>\n",
       "    <tr>\n",
       "      <th>865</th>\n",
       "      <td>697463031882764288</td>\n",
       "      <td>https://pbs.twimg.com/media/Ca3i7CzXIAMLhg8.jpg</td>\n",
       "      <td>1</td>\n",
       "      <td>Labrador_retriever</td>\n",
       "      <td>0.999885</td>\n",
       "      <td>True</td>\n",
       "      <td>golden_retriever</td>\n",
       "      <td>0.000098</td>\n",
       "      <td>True</td>\n",
       "      <td>pug</td>\n",
       "      <td>0.000008</td>\n",
       "      <td>True</td>\n",
       "    </tr>\n",
       "    <tr>\n",
       "      <th>1655</th>\n",
       "      <td>810284430598270976</td>\n",
       "      <td>https://pbs.twimg.com/media/Cz61ZD4W8AAcJEU.jpg</td>\n",
       "      <td>1</td>\n",
       "      <td>malamute</td>\n",
       "      <td>0.620768</td>\n",
       "      <td>True</td>\n",
       "      <td>Eskimo_dog</td>\n",
       "      <td>0.158395</td>\n",
       "      <td>True</td>\n",
       "      <td>Tibetan_mastiff</td>\n",
       "      <td>0.028962</td>\n",
       "      <td>True</td>\n",
       "    </tr>\n",
       "    <tr>\n",
       "      <th>831</th>\n",
       "      <td>693642232151285760</td>\n",
       "      <td>https://pbs.twimg.com/media/CaBP7i9W0AAJrIs.jpg</td>\n",
       "      <td>1</td>\n",
       "      <td>Scottish_deerhound</td>\n",
       "      <td>0.111893</td>\n",
       "      <td>True</td>\n",
       "      <td>bluetick</td>\n",
       "      <td>0.074302</td>\n",
       "      <td>True</td>\n",
       "      <td>German_short-haired_pointer</td>\n",
       "      <td>0.067000</td>\n",
       "      <td>True</td>\n",
       "    </tr>\n",
       "  </tbody>\n",
       "</table>\n",
       "</div>"
      ],
      "text/plain": [
       "                tweet_id                                          jpg_url  \\\n",
       "795   690938899477221376  https://pbs.twimg.com/media/CZa1QnSWEAAEOVr.jpg   \n",
       "1200  740995100998766593  https://pbs.twimg.com/media/CkiLHCjUUAAPwUr.jpg   \n",
       "865   697463031882764288  https://pbs.twimg.com/media/Ca3i7CzXIAMLhg8.jpg   \n",
       "1655  810284430598270976  https://pbs.twimg.com/media/Cz61ZD4W8AAcJEU.jpg   \n",
       "831   693642232151285760  https://pbs.twimg.com/media/CaBP7i9W0AAJrIs.jpg   \n",
       "\n",
       "      img_num         Prediction1  confedince1  p1_dog       Prediction2  \\\n",
       "795         1              geyser     0.370318   False          seashore   \n",
       "1200        1            malamute     0.454363    True           Samoyed   \n",
       "865         1  Labrador_retriever     0.999885    True  golden_retriever   \n",
       "1655        1            malamute     0.620768    True        Eskimo_dog   \n",
       "831         1  Scottish_deerhound     0.111893    True          bluetick   \n",
       "\n",
       "      confedince2  p2_dog                 Predictions3  confedince3  p3_dog  \n",
       "795      0.274888   False                       beacon     0.046397   False  \n",
       "1200     0.215967    True               Siberian_husky     0.077500    True  \n",
       "865      0.000098    True                          pug     0.000008    True  \n",
       "1655     0.158395    True              Tibetan_mastiff     0.028962    True  \n",
       "831      0.074302    True  German_short-haired_pointer     0.067000    True  "
      ]
     },
     "execution_count": 14,
     "metadata": {},
     "output_type": "execute_result"
    }
   ],
   "source": [
    "# Test\n",
    "image_predictions_clean.sample(5)"
   ]
  },
  {
   "cell_type": "markdown",
   "metadata": {},
   "source": [
    "**Quality Issue 8**\n",
    "\n",
    "-Change the source of Tweet to more readable categories \n",
    "- <a href=\"http://twitter.com/download/iphone\" rel=\"nofollow\">Twitter for iPhone</a>\n",
    "-<a href=\"http://vine.co\" rel=\"nofollow\">Vine - Make a Scene</a> \n",
    "- <a href=\"http://twitter.com\" rel=\"nofollow\">Twitter Web Client</a>  \n",
    "- <a href=\"https://about.twitter.com/products/tweetdeck\" rel=\"nofollow\">TweetDeck</a>  \n"
   ]
  },
  {
   "cell_type": "code",
   "execution_count": 21,
   "metadata": {},
   "outputs": [],
   "source": [
    "twitter_archive_clean['source'] = twitter_archive_clean['source'].replace('<a href=\"http://twitter.com/download/iphone\" rel=\"nofollow\">Twitter for iPhone</a>',\n",
    " 'Twitter for iphone')\n",
    "twitter_archive_clean['source'] =  twitter_archive_clean['source'].replace('<a href=\"http://vine.co\" rel=\"nofollow\">Vine - Make a Scene</a>',\n",
    "                                                                          'Vine - Make a Scene')\n",
    "twitter_archive_clean['source'] =  twitter_archive_clean['source'].replace('<a href=\"http://twitter.com\" rel=\"nofollow\">Twitter Web Client</a>',\n",
    "                                                                           'Twitter Web Client')\n",
    "twitter_archive_clean['source'] =  twitter_archive_clean['source'].replace('<a href=\"https://about.twitter.com/products/tweetdeck\" rel=\"nofollow\">TweetDeck</a>',\n",
    "                                                                           'TweetDeck')\n",
    "\n"
   ]
  },
  {
   "cell_type": "code",
   "execution_count": 80,
   "metadata": {},
   "outputs": [
    {
     "data": {
      "text/plain": [
       "Twitter for iphone    1932\n",
       "Twitter Web Client      28\n",
       "TweetDeck               11\n",
       "Name: source, dtype: int64"
      ]
     },
     "execution_count": 80,
     "metadata": {},
     "output_type": "execute_result"
    }
   ],
   "source": [
    "#Test\n",
    "twitter_archive_clean['source'].value_counts()"
   ]
  },
  {
   "cell_type": "markdown",
   "metadata": {},
   "source": [
    "**Tidiness issue 2**\n",
    "- As Twitter API contains additional data about tweets than the original in Twitter Archive data frame they can be merged togather\n"
   ]
  },
  {
   "cell_type": "code",
   "execution_count": 22,
   "metadata": {},
   "outputs": [],
   "source": [
    "#Code\n",
    "twitter_df = pd.merge(twitter_archive_clean, api_df_clean, how = 'outer', on=['tweet_id'])"
   ]
  },
  {
   "cell_type": "code",
   "execution_count": 46,
   "metadata": {},
   "outputs": [
    {
     "name": "stdout",
     "output_type": "stream",
     "text": [
      "<class 'pandas.core.frame.DataFrame'>\n",
      "Int64Index: 2356 entries, 0 to 2355\n",
      "Data columns (total 19 columns):\n",
      "tweet_id                      2356 non-null int64\n",
      "in_reply_to_status_id         78 non-null float64\n",
      "in_reply_to_user_id           78 non-null float64\n",
      "timestamp                     2356 non-null object\n",
      "source                        2356 non-null object\n",
      "text                          2356 non-null object\n",
      "retweeted_status_id           181 non-null float64\n",
      "retweeted_status_user_id      181 non-null float64\n",
      "retweeted_status_timestamp    181 non-null object\n",
      "expanded_urls                 2297 non-null object\n",
      "rating_numerator              2356 non-null int64\n",
      "rating_denominator            2356 non-null int64\n",
      "name                          2356 non-null object\n",
      "doggo                         2356 non-null object\n",
      "floofer                       2356 non-null object\n",
      "pupper                        2356 non-null object\n",
      "puppo                         2356 non-null object\n",
      "retweet_count                 2331 non-null float64\n",
      "favorite_count                2331 non-null float64\n",
      "dtypes: float64(6), int64(3), object(10)\n",
      "memory usage: 368.1+ KB\n"
     ]
    }
   ],
   "source": [
    "# Test \n",
    "twitter_df.info()"
   ]
  },
  {
   "cell_type": "markdown",
   "metadata": {},
   "source": [
    "**Merging documents to form a master dataset**"
   ]
  },
  {
   "cell_type": "code",
   "execution_count": 23,
   "metadata": {},
   "outputs": [],
   "source": [
    "twitter_df = pd.merge(twitter_df, image_predictions_clean, how = 'outer', on=['tweet_id'])"
   ]
  },
  {
   "cell_type": "code",
   "execution_count": 92,
   "metadata": {},
   "outputs": [
    {
     "name": "stdout",
     "output_type": "stream",
     "text": [
      "<class 'pandas.core.frame.DataFrame'>\n",
      "Int64Index: 1971 entries, 0 to 1970\n",
      "Data columns (total 26 columns):\n",
      "tweet_id              1971 non-null int64\n",
      "timestamp             1971 non-null datetime64[ns]\n",
      "source                1971 non-null object\n",
      "text                  1971 non-null object\n",
      "expanded_urls         1971 non-null object\n",
      "rating_numerator      1971 non-null int64\n",
      "rating_denominator    1971 non-null int64\n",
      "name                  1414 non-null object\n",
      "doggo                 1971 non-null object\n",
      "floofer               1971 non-null object\n",
      "pupper                1971 non-null object\n",
      "puppo                 1971 non-null object\n",
      "dog_breed             303 non-null object\n",
      "retweet_count         1964 non-null float64\n",
      "favorite_count        1964 non-null float64\n",
      "jpg_url               1971 non-null object\n",
      "img_num               1971 non-null int64\n",
      "prediction1           1971 non-null object\n",
      "confedince1           1971 non-null float64\n",
      "p1_dog                1971 non-null bool\n",
      "prediction2           1971 non-null object\n",
      "confedince2           1971 non-null float64\n",
      "p2_dog                1971 non-null bool\n",
      "predictions3          1971 non-null object\n",
      "confedince3           1971 non-null float64\n",
      "p3_dog                1971 non-null bool\n",
      "dtypes: bool(3), datetime64[ns](1), float64(5), int64(4), object(13)\n",
      "memory usage: 375.3+ KB\n"
     ]
    }
   ],
   "source": [
    "twitter_df.info()"
   ]
  },
  {
   "cell_type": "markdown",
   "metadata": {},
   "source": [
    "## Store##"
   ]
  },
  {
   "cell_type": "code",
   "execution_count": 24,
   "metadata": {},
   "outputs": [],
   "source": [
    "twitter_df.to_csv('twitter_archive_master.csv',index=False)\n"
   ]
  },
  {
   "cell_type": "markdown",
   "metadata": {},
   "source": [
    "# Visualize and Analyze#"
   ]
  },
  {
   "cell_type": "code",
   "execution_count": 25,
   "metadata": {},
   "outputs": [],
   "source": [
    "# READ FROM MASTER DATASET\n",
    "twitter_df = pd.read_csv('twitter_archive_master.csv')\n"
   ]
  },
  {
   "cell_type": "code",
   "execution_count": 37,
   "metadata": {},
   "outputs": [],
   "source": [
    "twitter_df.timestamp=pd.to_datetime(twitter_df.timestamp)"
   ]
  },
  {
   "cell_type": "markdown",
   "metadata": {},
   "source": [
    "**What is the most user source for posting Tweet?**"
   ]
  },
  {
   "cell_type": "code",
   "execution_count": 26,
   "metadata": {},
   "outputs": [
    {
     "data": {
      "text/plain": [
       "(array([0, 1, 2]), <a list of 3 Text xticklabel objects>)"
      ]
     },
     "execution_count": 26,
     "metadata": {},
     "output_type": "execute_result"
    },
    {
     "data": {
      "image/png": "[encoded data removed]",
      "text/plain": [
       "<matplotlib.figure.Figure at 0x7f1f8f41cc50>"
      ]
     },
     "metadata": {},
     "output_type": "display_data"
    }
   ],
   "source": [
    "sorted_source = twitter_df['source'].value_counts().head(4).index\n",
    "sns.set(style=\"whitegrid\")\n",
    "sns.countplot(data = twitter_df, x = 'source', order = sorted_source, orient = 'h')\n",
    "plt.ylabel('Count', fontsize=16)\n",
    "plt.xlabel('Source', fontsize=16)\n",
    "plt.title('Tweet Sources',fontsize=18)\n",
    "plt.xticks(rotation=-45)\n",
    "\n"
   ]
  },
  {
   "cell_type": "markdown",
   "metadata": {},
   "source": [
    "**What is the  top 3 dog stages in the dataset?**"
   ]
  },
  {
   "cell_type": "code",
   "execution_count": 27,
   "metadata": {},
   "outputs": [
    {
     "data": {
      "text/plain": [
       "(array([0, 1, 2]), <a list of 3 Text xticklabel objects>)"
      ]
     },
     "execution_count": 27,
     "metadata": {},
     "output_type": "execute_result"
    },
    {
     "data": {
      "image/png": "[encoded data removed]",
      "text/plain": [
       "<matplotlib.figure.Figure at 0x7f1f8d3a2080>"
      ]
     },
     "metadata": {},
     "output_type": "display_data"
    }
   ],
   "source": [
    "sorted_stage = twitter_df['dog_stage'].value_counts().head(3).index\n",
    "sns.set(style=\"whitegrid\")\n",
    "sns.countplot(data = twitter_df, x = 'dog_stage', order = sorted_stage, orient = 'h')\n",
    "plt.xlabel('Count', fontsize=14)\n",
    "plt.ylabel('Dog Stages', fontsize=14)\n",
    "plt.title('Dog Stages',fontsize=16)\n",
    "plt.xticks(rotation=-45)"
   ]
  },
  {
   "cell_type": "markdown",
   "metadata": {},
   "source": [
    "**What are  the top 10 Dog Breeds in the Data set?**"
   ]
  },
  {
   "cell_type": "code",
   "execution_count": 28,
   "metadata": {},
   "outputs": [
    {
     "data": {
      "text/plain": [
       "(array([0, 1, 2, 3, 4, 5, 6, 7, 8, 9]), <a list of 10 Text xticklabel objects>)"
      ]
     },
     "execution_count": 28,
     "metadata": {},
     "output_type": "execute_result"
    },
    {
     "data": {
      "image/png": "[encoded data removed]",
      "text/plain": [
       "<matplotlib.figure.Figure at 0x7f1f8f44dbe0>"
      ]
     },
     "metadata": {},
     "output_type": "display_data"
    }
   ],
   "source": [
    "sorted_stage = twitter_df['prediction1'].value_counts().head(10).index\n",
    "sns.set(style=\"darkgrid\")\n",
    "sns.countplot(data = twitter_df, x = 'prediction1', order = sorted_stage, orient = 'h')\n",
    "plt.xlabel('Dog Breeds', fontsize=14)\n",
    "plt.ylabel('Count', fontsize=14)\n",
    "plt.title('Dog Breeds',fontsize=16)\n",
    "plt.xticks(rotation=-45)\n"
   ]
  },
  {
   "cell_type": "markdown",
   "metadata": {},
   "source": [
    "**What is the relationship between favorite actions and retweet actions?**"
   ]
  },
  {
   "cell_type": "code",
   "execution_count": 29,
   "metadata": {},
   "outputs": [
    {
     "data": {
      "text/plain": [
       "<matplotlib.axes._subplots.AxesSubplot at 0x7f1f8d380128>"
      ]
     },
     "execution_count": 29,
     "metadata": {},
     "output_type": "execute_result"
    },
    {
     "data": {
      "image/png": "[encoded data removed]",
      "text/plain": [
       "<matplotlib.figure.Figure at 0x7f1f8d389518>"
      ]
     },
     "metadata": {},
     "output_type": "display_data"
    }
   ],
   "source": [
    "sns.regplot(x=\"retweet_count\", y=\"favorite_count\", data=twitter_df)"
   ]
  },
  {
   "cell_type": "markdown",
   "metadata": {},
   "source": [
    "**What is the 10 top dog breeds in terms of average favorite count?**"
   ]
  },
  {
   "cell_type": "code",
   "execution_count": 30,
   "metadata": {},
   "outputs": [
    {
     "data": {
      "text/plain": [
       "Text(0.5,0,'Average Favorite Count')"
      ]
     },
     "execution_count": 30,
     "metadata": {},
     "output_type": "execute_result"
    },
    {
     "data": {
      "image/png": "[encoded data removed]",
      "text/plain": [
       "<matplotlib.figure.Figure at 0x7f1f8d2e9080>"
      ]
     },
     "metadata": {},
     "output_type": "display_data"
    }
   ],
   "source": [
    "dog_fav_list=twitter_df[twitter_df.p1_dog==True].groupby(['prediction1']).favorite_count.mean().sort_values(ascending=False)[10::-1]\n",
    "ax=dog_fav_list.plot(kind='barh')\n",
    "ax.set_ylabel('Dog Breed')\n",
    "ax.set_xlabel('Average Favorite Count')\n",
    "\n",
    "#ax = sns.countplot(x=dog_fav_list.index,data=dog_fav_list)"
   ]
  },
  {
   "cell_type": "markdown",
   "metadata": {},
   "source": [
    "**What is the top 10 dog breeds in terms of total favorite count?**"
   ]
  },
  {
   "cell_type": "code",
   "execution_count": 31,
   "metadata": {},
   "outputs": [
    {
     "data": {
      "text/plain": [
       "Text(0.5,0,'Total Favorite Count')"
      ]
     },
     "execution_count": 31,
     "metadata": {},
     "output_type": "execute_result"
    },
    {
     "data": {
      "image/png": "[encoded data removed]",
      "text/plain": [
       "<matplotlib.figure.Figure at 0x7f1f8d1db630>"
      ]
     },
     "metadata": {},
     "output_type": "display_data"
    }
   ],
   "source": [
    "dog_fav_list=twitter_df[twitter_df.p1_dog==True].groupby(['prediction1']).favorite_count.sum().sort_values(ascending=False)[10::-1]\n",
    "ax=dog_fav_list.plot(kind='barh')\n",
    "ax.set_ylabel('Dog Breed')\n",
    "ax.set_xlabel('Total Favorite Count')\n"
   ]
  },
  {
   "cell_type": "markdown",
   "metadata": {},
   "source": [
    "**What is the Top Dog Stages in term of average favorite count?**"
   ]
  },
  {
   "cell_type": "code",
   "execution_count": 33,
   "metadata": {},
   "outputs": [
    {
     "data": {
      "text/plain": [
       "Text(0.5,0,'Average Favorite Count')"
      ]
     },
     "execution_count": 33,
     "metadata": {},
     "output_type": "execute_result"
    },
    {
     "data": {
      "image/png": "[encoded data removed]",
      "text/plain": [
       "<matplotlib.figure.Figure at 0x7f1f9c37bb38>"
      ]
     },
     "metadata": {},
     "output_type": "display_data"
    }
   ],
   "source": [
    "dog_fav_list=twitter_df[twitter_df.p1_dog==True].groupby(['dog_stage']).favorite_count.mean().sort_values(ascending=False)[10::-1]\n",
    "ax=dog_fav_list.plot(kind='barh')\n",
    "ax.set_ylabel('Dog Stage')\n",
    "ax.set_xlabel('Average Favorite Count')"
   ]
  },
  {
   "cell_type": "markdown",
   "metadata": {},
   "source": [
    "**What is the Average retweet count per day**"
   ]
  },
  {
   "cell_type": "code",
   "execution_count": 38,
   "metadata": {},
   "outputs": [
    {
     "data": {
      "text/plain": [
       "Text(0.5,0,'Average Retweet Count')"
      ]
     },
     "execution_count": 38,
     "metadata": {},
     "output_type": "execute_result"
    },
    {
     "data": {
      "image/png": "[encoded data removed]",
      "text/plain": [
       "<matplotlib.figure.Figure at 0x7f1f8d03ed30>"
      ]
     },
     "metadata": {},
     "output_type": "display_data"
    }
   ],
   "source": [
    "dog_fav_list=twitter_df.groupby(twitter_df['timestamp'].dt.day_name()).retweet_count.mean().sort_values(ascending=False)[7::-1]\n",
    "ax=dog_fav_list.plot(kind='barh')\n",
    "ax.set_ylabel('Days')\n",
    "ax.set_xlabel('Average Retweet Count')"
   ]
  },
  {
   "cell_type": "code",
   "execution_count": null,
   "metadata": {},
   "outputs": [],
   "source": []
  }
 ],
 "metadata": {
  "kernelspec": {
   "display_name": "Python 3",
   "language": "python",
   "name": "python3"
  },
  "language_info": {
   "codemirror_mode": {
    "name": "ipython",
    "version": 3
   },
   "file_extension": ".py",
   "mimetype": "text/x-python",
   "name": "python",
   "nbconvert_exporter": "python",
   "pygments_lexer": "ipython3",
   "version": "3.6.3"
  }
 },
 "nbformat": 4,
 "nbformat_minor": 2
}
